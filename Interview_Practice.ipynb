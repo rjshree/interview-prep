{
 "cells": [
  {
   "cell_type": "markdown",
   "id": "e1ef95e1",
   "metadata": {},
   "source": [
    "## Interview Prep"
   ]
  },
  {
   "cell_type": "markdown",
   "id": "26fd5575",
   "metadata": {},
   "source": [
    "## Tuples"
   ]
  },
  {
   "cell_type": "code",
   "execution_count": 20,
   "id": "d42511c0",
   "metadata": {},
   "outputs": [
    {
     "ename": "TypeError",
     "evalue": "'tuple' object does not support item assignment",
     "output_type": "error",
     "traceback": [
      "\u001b[1;31m---------------------------------------------------------------------------\u001b[0m",
      "\u001b[1;31mTypeError\u001b[0m                                 Traceback (most recent call last)",
      "\u001b[1;32m~\\AppData\\Local\\Temp/ipykernel_10536/1943986257.py\u001b[0m in \u001b[0;36m<module>\u001b[1;34m\u001b[0m\n\u001b[0;32m      1\u001b[0m \u001b[1;31m#Tuple\u001b[0m\u001b[1;33m\u001b[0m\u001b[1;33m\u001b[0m\u001b[0m\n\u001b[0;32m      2\u001b[0m \u001b[0mt\u001b[0m\u001b[1;33m=\u001b[0m\u001b[1;33m(\u001b[0m\u001b[1;34m'disco'\u001b[0m\u001b[1;33m,\u001b[0m\u001b[1;36m12\u001b[0m\u001b[1;33m,\u001b[0m\u001b[1;36m4.5\u001b[0m\u001b[1;33m)\u001b[0m\u001b[1;33m\u001b[0m\u001b[1;33m\u001b[0m\u001b[0m\n\u001b[1;32m----> 3\u001b[1;33m \u001b[0mt\u001b[0m\u001b[1;33m[\u001b[0m\u001b[1;36m1\u001b[0m\u001b[1;33m]\u001b[0m\u001b[1;33m=\u001b[0m\u001b[1;36m5\u001b[0m\u001b[1;33m\u001b[0m\u001b[1;33m\u001b[0m\u001b[0m\n\u001b[0m",
      "\u001b[1;31mTypeError\u001b[0m: 'tuple' object does not support item assignment"
     ]
    }
   ],
   "source": [
    "#Tuple\n",
    "t=('disco',12,4.5)\n",
    "t[1]=5"
   ]
  },
  {
   "cell_type": "code",
   "execution_count": 17,
   "id": "5020dbf7",
   "metadata": {},
   "outputs": [
    {
     "data": {
      "text/plain": [
       "()"
      ]
     },
     "execution_count": 17,
     "metadata": {},
     "output_type": "execute_result"
    }
   ],
   "source": [
    "t=(1,2,3,4)\n",
    "t[1:-4] #does not throw error returns empty tuple"
   ]
  },
  {
   "cell_type": "code",
   "execution_count": 32,
   "id": "1cb1e665",
   "metadata": {},
   "outputs": [
    {
     "name": "stdout",
     "output_type": "stream",
     "text": [
      "<class 'tuple'> (1, 2, 3)\n",
      "<class 'tuple'> ((1, 2, 3), 4, 5)\n",
      "<class 'tuple'> ((1, 2, 3), (4, 5))\n"
     ]
    }
   ],
   "source": [
    "# creation\n",
    "t = 1,2,3,\n",
    "print(type(t),t)\n",
    "u = t,4,5\n",
    "print(type(u),u)\n",
    "u=t,(4,5)\n",
    "print(type(u),u)"
   ]
  },
  {
   "cell_type": "code",
   "execution_count": 31,
   "id": "2e6b124f",
   "metadata": {},
   "outputs": [
    {
     "name": "stdout",
     "output_type": "stream",
     "text": [
      "<class 'int'> 91\n"
     ]
    }
   ],
   "source": [
    "# not a tuple \n",
    "t = (91)\n",
    "print(type(t),t)"
   ]
  },
  {
   "cell_type": "code",
   "execution_count": 33,
   "id": "b26d664d",
   "metadata": {},
   "outputs": [
    {
     "name": "stdout",
     "output_type": "stream",
     "text": [
      "<class 'tuple'> (1,)\n"
     ]
    }
   ],
   "source": [
    "# Single element tuple\n",
    "t =1,\n",
    "print(type(t),t)"
   ]
  },
  {
   "cell_type": "code",
   "execution_count": 38,
   "id": "b85e168e",
   "metadata": {},
   "outputs": [],
   "source": [
    "t='geeksfoegeeks',"
   ]
  },
  {
   "cell_type": "code",
   "execution_count": 39,
   "id": "8ecefa43",
   "metadata": {},
   "outputs": [
    {
     "name": "stdout",
     "output_type": "stream",
     "text": [
      "<class 'tuple'> ('geeksfoegeeks',)\n",
      "()\n"
     ]
    }
   ],
   "source": [
    "print(type(t),t)\n",
    "print(t[1:])"
   ]
  },
  {
   "cell_type": "code",
   "execution_count": 41,
   "id": "51593e23",
   "metadata": {},
   "outputs": [
    {
     "name": "stdout",
     "output_type": "stream",
     "text": [
      "('G', 'E', 'E', 'K', 'S', 'F', 'O', 'R', 'G', 'E', 'E', 'K', 'S')\n",
      "Removal of First Element: \n",
      "('E', 'E', 'K', 'S', 'F', 'O', 'R', 'G', 'E', 'E', 'K', 'S')\n"
     ]
    }
   ],
   "source": [
    "Tuple1 = tuple('GEEKSFORGEEKS')\n",
    " \n",
    "# Removing First element\n",
    "print(Tuple1)\n",
    "print(\"Removal of First Element: \")\n",
    "print(Tuple1[1:])"
   ]
  },
  {
   "cell_type": "code",
   "execution_count": 62,
   "id": "dd233857",
   "metadata": {},
   "outputs": [
    {
     "name": "stdout",
     "output_type": "stream",
     "text": [
      "(123131, 12)\n"
     ]
    }
   ],
   "source": [
    "t1=tuple((123131,12)) #accepts iterable only\n",
    "print(t1)\n"
   ]
  },
  {
   "cell_type": "code",
   "execution_count": 47,
   "id": "50c70f7f",
   "metadata": {},
   "outputs": [
    {
     "ename": "NameError",
     "evalue": "name 'Tuple1' is not defined",
     "output_type": "error",
     "traceback": [
      "\u001b[1;31m---------------------------------------------------------------------------\u001b[0m",
      "\u001b[1;31mNameError\u001b[0m                                 Traceback (most recent call last)",
      "\u001b[1;32m~\\AppData\\Local\\Temp/ipykernel_10536/3035858183.py\u001b[0m in \u001b[0;36m<module>\u001b[1;34m\u001b[0m\n\u001b[0;32m      4\u001b[0m \u001b[1;32mdel\u001b[0m \u001b[0mTuple1\u001b[0m\u001b[1;33m\u001b[0m\u001b[1;33m\u001b[0m\u001b[0m\n\u001b[0;32m      5\u001b[0m \u001b[1;33m\u001b[0m\u001b[0m\n\u001b[1;32m----> 6\u001b[1;33m \u001b[0mprint\u001b[0m\u001b[1;33m(\u001b[0m\u001b[0mTuple1\u001b[0m\u001b[1;33m)\u001b[0m\u001b[1;33m\u001b[0m\u001b[1;33m\u001b[0m\u001b[0m\n\u001b[0m",
      "\u001b[1;31mNameError\u001b[0m: name 'Tuple1' is not defined"
     ]
    }
   ],
   "source": [
    "# Deleting a Tuple\n",
    " \n",
    "Tuple1 = (0, 1, 2, 3, 4)\n",
    "del Tuple1\n",
    " \n",
    "print(Tuple1)"
   ]
  },
  {
   "cell_type": "markdown",
   "id": "a953b57b",
   "metadata": {},
   "source": [
    "### String"
   ]
  },
  {
   "cell_type": "code",
   "execution_count": 21,
   "id": "1e80b525",
   "metadata": {},
   "outputs": [
    {
     "ename": "TypeError",
     "evalue": "'str' object does not support item assignment",
     "output_type": "error",
     "traceback": [
      "\u001b[1;31m---------------------------------------------------------------------------\u001b[0m",
      "\u001b[1;31mTypeError\u001b[0m                                 Traceback (most recent call last)",
      "\u001b[1;32m~\\AppData\\Local\\Temp/ipykernel_10536/841249187.py\u001b[0m in \u001b[0;36m<module>\u001b[1;34m\u001b[0m\n\u001b[0;32m      1\u001b[0m \u001b[0mx\u001b[0m\u001b[1;33m=\u001b[0m\u001b[1;34m'Raji'\u001b[0m\u001b[1;33m\u001b[0m\u001b[1;33m\u001b[0m\u001b[0m\n\u001b[1;32m----> 2\u001b[1;33m \u001b[0mx\u001b[0m\u001b[1;33m[\u001b[0m\u001b[1;36m3\u001b[0m\u001b[1;33m]\u001b[0m\u001b[1;33m=\u001b[0m\u001b[1;34m'e'\u001b[0m\u001b[1;33m\u001b[0m\u001b[1;33m\u001b[0m\u001b[0m\n\u001b[0m",
      "\u001b[1;31mTypeError\u001b[0m: 'str' object does not support item assignment"
     ]
    }
   ],
   "source": [
    "x='Raji'\n",
    "x[3]='e'"
   ]
  },
  {
   "cell_type": "code",
   "execution_count": 34,
   "id": "0b92b170",
   "metadata": {},
   "outputs": [
    {
     "name": "stdout",
     "output_type": "stream",
     "text": [
      "aji\n"
     ]
    }
   ],
   "source": [
    "print(x[1:])"
   ]
  },
  {
   "cell_type": "code",
   "execution_count": 48,
   "id": "c336e868",
   "metadata": {},
   "outputs": [
    {
     "data": {
      "text/plain": [
       "range(1, 10)"
      ]
     },
     "execution_count": 48,
     "metadata": {},
     "output_type": "execute_result"
    }
   ],
   "source": [
    "range(1,10)"
   ]
  },
  {
   "cell_type": "code",
   "execution_count": 50,
   "id": "562ca309",
   "metadata": {},
   "outputs": [
    {
     "name": "stdout",
     "output_type": "stream",
     "text": [
      "0\n",
      "1\n",
      "1\n",
      "2\n",
      "3\n",
      "\n",
      "Using for in loop\n",
      "0\n",
      "1\n",
      "1\n",
      "2\n",
      "3\n"
     ]
    }
   ],
   "source": []
  },
  {
   "cell_type": "code",
   "execution_count": null,
   "id": "740a9163",
   "metadata": {},
   "outputs": [],
   "source": [
    "\n"
   ]
  },
  {
   "cell_type": "code",
   "execution_count": 54,
   "id": "78f683f3",
   "metadata": {},
   "outputs": [
    {
     "data": {
      "text/plain": [
       "98"
      ]
     },
     "execution_count": 54,
     "metadata": {},
     "output_type": "execute_result"
    }
   ],
   "source": []
  },
  {
   "cell_type": "code",
   "execution_count": 61,
   "id": "4cdbdf88",
   "metadata": {},
   "outputs": [
    {
     "name": "stdout",
     "output_type": "stream",
     "text": [
      "cacad\n"
     ]
    }
   ],
   "source": [
    "# abbacaca -> aacaca -> caca\n",
    "\n",
    "def removeAdjacentDuplicates(String):\n",
    "   res = []\n",
    "\n",
    "   for i in range(len(String)):\n",
    "      if len(res)!=0 and res[-1]==String[i]:\n",
    "         res.pop(-1)\n",
    "      else:\n",
    "         res.append(String[i])\n",
    "\n",
    "   return \"\".join(res)\n",
    "\n",
    "print(removeAdjacentDuplicates(\"abbacacad\"))"
   ]
  },
  {
   "cell_type": "markdown",
   "id": "ebf31267",
   "metadata": {},
   "source": [
    "## Generator"
   ]
  },
  {
   "cell_type": "code",
   "execution_count": 63,
   "id": "81b0e301",
   "metadata": {},
   "outputs": [
    {
     "name": "stdout",
     "output_type": "stream",
     "text": [
      "0\n",
      "1\n",
      "1\n",
      "2\n",
      "3\n",
      "\n",
      "Using for in loop\n",
      "0\n",
      "1\n",
      "1\n",
      "2\n",
      "3\n"
     ]
    }
   ],
   "source": [
    "# A simple generator for Fibonacci Numbers\n",
    "def fib(limit):\n",
    "  \n",
    "  # Initialize first two Fibonacci Numbers\n",
    "  a, b = 0, 1\n",
    "\n",
    "  # One by one yield next Fibonacci Number\n",
    "  while a < limit:\n",
    "    yield a\n",
    "    a, b = b, a + b\n",
    "\n",
    "# Create a generator object\n",
    "x = fib(5)\n",
    "\n",
    "# Iterating over the generator object using next\n",
    "print(x. __next__()) # In Python 3, __next__()\n",
    "print(x. __next__())\n",
    "print(x. __next__())\n",
    "print(x. __next__())\n",
    "print(x. __next__())\n",
    "\n",
    "# Iterating over the generator object using for\n",
    "# in loop.\n",
    "print(\"\\nUsing for in loop\")\n",
    "for i in fib(5):\n",
    "  print(i)\n"
   ]
  },
  {
   "cell_type": "markdown",
   "id": "2d1a3d5f",
   "metadata": {},
   "source": [
    "## Linked List"
   ]
  },
  {
   "cell_type": "code",
   "execution_count": 64,
   "id": "cd90a444",
   "metadata": {},
   "outputs": [],
   "source": [
    "# Node class \n",
    "class Node:\n",
    "  \n",
    "    # Constructor to initialize the node object\n",
    "    def __init__(self, data):\n",
    "        self.data = data\n",
    "        self.next = None"
   ]
  },
  {
   "cell_type": "code",
   "execution_count": 89,
   "id": "cdf0a9db",
   "metadata": {},
   "outputs": [],
   "source": [
    "class LinkedList:\n",
    "   def __init__(self):\n",
    "      self.head = None\n",
    "            \n",
    "   def insert(self, data):\n",
    "    newNode = Node(data)\n",
    "    if(self.head):\n",
    "      current = self.head\n",
    "      while(current.next):\n",
    "        current = current.next\n",
    "      current.next = newNode\n",
    "    else:\n",
    "      self.head = newNode\n",
    "    \n",
    "   def printLL(self):\n",
    "    current = self.head\n",
    "    while(current):\n",
    "      print(current.data)\n",
    "      current = current.next"
   ]
  },
  {
   "cell_type": "code",
   "execution_count": 90,
   "id": "e9f8405d",
   "metadata": {},
   "outputs": [],
   "source": [
    "LL = LinkedList()\n",
    "LL.insert(3)\n",
    "LL.insert(4)\n",
    "LL.insert(5)\n",
    "LL.insert(6)"
   ]
  },
  {
   "cell_type": "code",
   "execution_count": 91,
   "id": "6b663cf5",
   "metadata": {},
   "outputs": [
    {
     "name": "stdout",
     "output_type": "stream",
     "text": [
      "3\n",
      "4\n",
      "5\n",
      "6\n"
     ]
    }
   ],
   "source": [
    "LL.printLL()"
   ]
  },
  {
   "cell_type": "markdown",
   "id": "0b61a838",
   "metadata": {},
   "source": [
    "## Stack"
   ]
  },
  {
   "cell_type": "code",
   "execution_count": 99,
   "id": "60e888e7",
   "metadata": {},
   "outputs": [
    {
     "name": "stdout",
     "output_type": "stream",
     "text": [
      "Thu\n",
      "Wed\n",
      "Tue\n"
     ]
    }
   ],
   "source": [
    "class Stack:\n",
    "   def __init__(self):\n",
    "      self.stack = []\n",
    "\n",
    "   def add(self, dataval):\n",
    "# Use list append method to add element\n",
    "      if dataval not in self.stack:\n",
    "         self.stack.append(dataval)\n",
    "         return True\n",
    "      else:\n",
    "         return False\n",
    "        \n",
    "# Use list pop method to remove element\n",
    "   def remove(self):\n",
    "      if len(self.stack) <= 0:\n",
    "         return (\"No element in the Stack\")\n",
    "      else:\n",
    "         return self.stack.pop()\n",
    "# Use peek to look at the top of the stack\n",
    "   def peek(self):\n",
    "      return self.stack[-1]\n",
    "\n",
    "AStack = Stack()\n",
    "AStack.add(\"Mon\")\n",
    "AStack.add(\"Tue\")\n",
    "AStack.add(\"Wed\")\n",
    "AStack.add(\"Thu\")\n",
    "print(AStack.remove())\n",
    "print(AStack.remove())\n",
    "print(AStack.peek())"
   ]
  },
  {
   "cell_type": "markdown",
   "id": "48e01b42",
   "metadata": {},
   "source": [
    "## Queue using List"
   ]
  },
  {
   "cell_type": "code",
   "execution_count": 117,
   "id": "65214045",
   "metadata": {},
   "outputs": [
    {
     "name": "stdout",
     "output_type": "stream",
     "text": [
      "Wed\n",
      "Tue\n"
     ]
    }
   ],
   "source": [
    "class Queue:\n",
    "   def __init__(self):\n",
    "      self.queue = list()\n",
    "\n",
    "   def addtoq(self,dataval):\n",
    "# Insert method to add element\n",
    "    if dataval not in self.queue:\n",
    "#       self.queue.insert(0,dataval)\n",
    "      self.queue.append(dataval)\n",
    "      return True\n",
    "    return False\n",
    "# Pop method to remove element\n",
    "   def removefromq(self):\n",
    "      if len(self.queue)>0:\n",
    "         return self.queue.pop()\n",
    "      return (\"No elements in Queue!\")\n",
    "\n",
    "TheQueue = Queue()\n",
    "TheQueue.addtoq(\"Mon\")\n",
    "TheQueue.addtoq(\"Tue\")\n",
    "TheQueue.addtoq(\"Wed\")\n",
    "print(TheQueue.removefromq())\n",
    "print(TheQueue.removefromq())"
   ]
  },
  {
   "cell_type": "code",
   "execution_count": 112,
   "id": "3589e7ce",
   "metadata": {},
   "outputs": [
    {
     "name": "stdout",
     "output_type": "stream",
     "text": [
      "[1, 2]\n"
     ]
    }
   ],
   "source": [
    "l = []\n",
    "l.insert(0,1)\n",
    "\n",
    "l.insert(2,2)\n",
    "# l.insert(1,None)\n",
    "print(l)"
   ]
  },
  {
   "cell_type": "code",
   "execution_count": 123,
   "id": "0c7fc1be",
   "metadata": {},
   "outputs": [
    {
     "name": "stdout",
     "output_type": "stream",
     "text": [
      "[0, '', 2]\n",
      "{0, 1, 2, 3, 4}\n",
      "[(0, 0), ('', 1), (2, 2)]\n",
      "(0, '', 2) (0, 1, 2)\n"
     ]
    }
   ],
   "source": [
    "l = [0,'',2]\n",
    "s = set([0,1,2,2,3,3,4,4])\n",
    "print(l)\n",
    "print(s)\n",
    "zipped= list(zip(l,s))\n",
    "print(list(zip(l,s)))\n",
    "\n",
    "# unzipping values\n",
    "u,v = zip(*zipped)\n",
    "print(u,v)"
   ]
  },
  {
   "cell_type": "code",
   "execution_count": 131,
   "id": "daf97afa",
   "metadata": {},
   "outputs": [
    {
     "name": "stdout",
     "output_type": "stream",
     "text": [
      "[10, 20, 30, 40, 50, 60, 70, 80, 90, 100]\n"
     ]
    }
   ],
   "source": [
    "# Lambda\n",
    "tables = lambda x=x: [x*10 for x in range(1, 11)]\n",
    "print(tables())"
   ]
  },
  {
   "cell_type": "code",
   "execution_count": 129,
   "id": "298397d7",
   "metadata": {},
   "outputs": [],
   "source": []
  },
  {
   "cell_type": "code",
   "execution_count": 130,
   "id": "7c983a02",
   "metadata": {},
   "outputs": [
    {
     "name": "stdout",
     "output_type": "stream",
     "text": [
      "[5, 7, 97, 77, 23, 73, 61]\n"
     ]
    }
   ],
   "source": [
    "# Python code to illustrate\n",
    "# filter() with lambda()\n",
    "li = [5, 7, 22, 97, 54, 62, 77, 23, 73, 61]\n",
    "\n",
    "final_list = list(filter(lambda x: (x%2 != 0) , li))\n",
    "print(final_list)\n"
   ]
  },
  {
   "cell_type": "code",
   "execution_count": null,
   "id": "668af80c",
   "metadata": {},
   "outputs": [],
   "source": []
  }
 ],
 "metadata": {
  "kernelspec": {
   "display_name": "Python 3 (ipykernel)",
   "language": "python",
   "name": "python3"
  },
  "language_info": {
   "codemirror_mode": {
    "name": "ipython",
    "version": 3
   },
   "file_extension": ".py",
   "mimetype": "text/x-python",
   "name": "python",
   "nbconvert_exporter": "python",
   "pygments_lexer": "ipython3",
   "version": "3.9.7"
  }
 },
 "nbformat": 4,
 "nbformat_minor": 5
}
