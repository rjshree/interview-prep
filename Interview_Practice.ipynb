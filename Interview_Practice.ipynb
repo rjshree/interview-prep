{
 "cells": [
  {
   "cell_type": "markdown",
   "id": "b65e95d9",
   "metadata": {},
   "source": [
    "## Interview Prep"
   ]
  },
  {
   "cell_type": "markdown",
   "id": "c26b9e65",
   "metadata": {},
   "source": [
    "## Tuples"
   ]
  },
  {
   "cell_type": "code",
   "execution_count": 20,
   "id": "d5ae49e8",
   "metadata": {},
   "outputs": [
    {
     "ename": "TypeError",
     "evalue": "'tuple' object does not support item assignment",
     "output_type": "error",
     "traceback": [
      "\u001b[1;31m---------------------------------------------------------------------------\u001b[0m",
      "\u001b[1;31mTypeError\u001b[0m                                 Traceback (most recent call last)",
      "\u001b[1;32m~\\AppData\\Local\\Temp/ipykernel_10536/1943986257.py\u001b[0m in \u001b[0;36m<module>\u001b[1;34m\u001b[0m\n\u001b[0;32m      1\u001b[0m \u001b[1;31m#Tuple\u001b[0m\u001b[1;33m\u001b[0m\u001b[1;33m\u001b[0m\u001b[0m\n\u001b[0;32m      2\u001b[0m \u001b[0mt\u001b[0m\u001b[1;33m=\u001b[0m\u001b[1;33m(\u001b[0m\u001b[1;34m'disco'\u001b[0m\u001b[1;33m,\u001b[0m\u001b[1;36m12\u001b[0m\u001b[1;33m,\u001b[0m\u001b[1;36m4.5\u001b[0m\u001b[1;33m)\u001b[0m\u001b[1;33m\u001b[0m\u001b[1;33m\u001b[0m\u001b[0m\n\u001b[1;32m----> 3\u001b[1;33m \u001b[0mt\u001b[0m\u001b[1;33m[\u001b[0m\u001b[1;36m1\u001b[0m\u001b[1;33m]\u001b[0m\u001b[1;33m=\u001b[0m\u001b[1;36m5\u001b[0m\u001b[1;33m\u001b[0m\u001b[1;33m\u001b[0m\u001b[0m\n\u001b[0m",
      "\u001b[1;31mTypeError\u001b[0m: 'tuple' object does not support item assignment"
     ]
    }
   ],
   "source": [
    "#Tuple\n",
    "t=('disco',12,4.5)\n",
    "t[1]=5"
   ]
  },
  {
   "cell_type": "code",
   "execution_count": 17,
   "id": "26ba60bd",
   "metadata": {},
   "outputs": [
    {
     "data": {
      "text/plain": [
       "()"
      ]
     },
     "execution_count": 17,
     "metadata": {},
     "output_type": "execute_result"
    }
   ],
   "source": [
    "t=(1,2,3,4)\n",
    "t[1:-4] #does not throw error returns empty tuple"
   ]
  },
  {
   "cell_type": "code",
   "execution_count": 32,
   "id": "b4ee70e4",
   "metadata": {},
   "outputs": [
    {
     "name": "stdout",
     "output_type": "stream",
     "text": [
      "<class 'tuple'> (1, 2, 3)\n",
      "<class 'tuple'> ((1, 2, 3), 4, 5)\n",
      "<class 'tuple'> ((1, 2, 3), (4, 5))\n"
     ]
    }
   ],
   "source": [
    "# creation\n",
    "t = 1,2,3,\n",
    "print(type(t),t)\n",
    "u = t,4,5\n",
    "print(type(u),u)\n",
    "u=t,(4,5)\n",
    "print(type(u),u)"
   ]
  },
  {
   "cell_type": "code",
   "execution_count": 31,
   "id": "3e8d0c76",
   "metadata": {},
   "outputs": [
    {
     "name": "stdout",
     "output_type": "stream",
     "text": [
      "<class 'int'> 91\n"
     ]
    }
   ],
   "source": [
    "# not a tuple \n",
    "t = (91)\n",
    "print(type(t),t)"
   ]
  },
  {
   "cell_type": "code",
   "execution_count": 33,
   "id": "fe2558af",
   "metadata": {},
   "outputs": [
    {
     "name": "stdout",
     "output_type": "stream",
     "text": [
      "<class 'tuple'> (1,)\n"
     ]
    }
   ],
   "source": [
    "# Single element tuple\n",
    "t =1,\n",
    "print(type(t),t)"
   ]
  },
  {
   "cell_type": "code",
   "execution_count": 5,
   "id": "a93d409a",
   "metadata": {},
   "outputs": [
    {
     "name": "stdout",
     "output_type": "stream",
     "text": [
      "<class 'tuple'> ('geeksfoegeeks',)\n",
      "()\n"
     ]
    }
   ],
   "source": [
    "t='geeksfoegeeks',\n",
    "print(type(t),t)\n",
    "print(t[1:])"
   ]
  },
  {
   "cell_type": "code",
   "execution_count": 41,
   "id": "703d86ce",
   "metadata": {},
   "outputs": [
    {
     "name": "stdout",
     "output_type": "stream",
     "text": [
      "('G', 'E', 'E', 'K', 'S', 'F', 'O', 'R', 'G', 'E', 'E', 'K', 'S')\n",
      "Removal of First Element: \n",
      "('E', 'E', 'K', 'S', 'F', 'O', 'R', 'G', 'E', 'E', 'K', 'S')\n"
     ]
    }
   ],
   "source": [
    "Tuple1 = tuple('GEEKSFORGEEKS')\n",
    " \n",
    "# Removing First element\n",
    "print(Tuple1)\n",
    "print(\"Removal of First Element: \")\n",
    "print(Tuple1[1:])"
   ]
  },
  {
   "cell_type": "code",
   "execution_count": 62,
   "id": "38ed4556",
   "metadata": {},
   "outputs": [
    {
     "name": "stdout",
     "output_type": "stream",
     "text": [
      "(123131, 12)\n"
     ]
    }
   ],
   "source": [
    "t1=tuple((123131,12)) #accepts iterable only\n",
    "print(t1)\n"
   ]
  },
  {
   "cell_type": "code",
   "execution_count": 47,
   "id": "0ea49c30",
   "metadata": {},
   "outputs": [
    {
     "ename": "NameError",
     "evalue": "name 'Tuple1' is not defined",
     "output_type": "error",
     "traceback": [
      "\u001b[1;31m---------------------------------------------------------------------------\u001b[0m",
      "\u001b[1;31mNameError\u001b[0m                                 Traceback (most recent call last)",
      "\u001b[1;32m~\\AppData\\Local\\Temp/ipykernel_10536/3035858183.py\u001b[0m in \u001b[0;36m<module>\u001b[1;34m\u001b[0m\n\u001b[0;32m      4\u001b[0m \u001b[1;32mdel\u001b[0m \u001b[0mTuple1\u001b[0m\u001b[1;33m\u001b[0m\u001b[1;33m\u001b[0m\u001b[0m\n\u001b[0;32m      5\u001b[0m \u001b[1;33m\u001b[0m\u001b[0m\n\u001b[1;32m----> 6\u001b[1;33m \u001b[0mprint\u001b[0m\u001b[1;33m(\u001b[0m\u001b[0mTuple1\u001b[0m\u001b[1;33m)\u001b[0m\u001b[1;33m\u001b[0m\u001b[1;33m\u001b[0m\u001b[0m\n\u001b[0m",
      "\u001b[1;31mNameError\u001b[0m: name 'Tuple1' is not defined"
     ]
    }
   ],
   "source": [
    "# Deleting a Tuple\n",
    " \n",
    "Tuple1 = (0, 1, 2, 3, 4)\n",
    "del Tuple1\n",
    " \n",
    "print(Tuple1)"
   ]
  },
  {
   "cell_type": "markdown",
   "id": "0daf9dc7",
   "metadata": {},
   "source": [
    "### String"
   ]
  },
  {
   "cell_type": "code",
   "execution_count": 21,
   "id": "4d6da56b",
   "metadata": {},
   "outputs": [
    {
     "ename": "TypeError",
     "evalue": "'str' object does not support item assignment",
     "output_type": "error",
     "traceback": [
      "\u001b[1;31m---------------------------------------------------------------------------\u001b[0m",
      "\u001b[1;31mTypeError\u001b[0m                                 Traceback (most recent call last)",
      "\u001b[1;32m~\\AppData\\Local\\Temp/ipykernel_10536/841249187.py\u001b[0m in \u001b[0;36m<module>\u001b[1;34m\u001b[0m\n\u001b[0;32m      1\u001b[0m \u001b[0mx\u001b[0m\u001b[1;33m=\u001b[0m\u001b[1;34m'Raji'\u001b[0m\u001b[1;33m\u001b[0m\u001b[1;33m\u001b[0m\u001b[0m\n\u001b[1;32m----> 2\u001b[1;33m \u001b[0mx\u001b[0m\u001b[1;33m[\u001b[0m\u001b[1;36m3\u001b[0m\u001b[1;33m]\u001b[0m\u001b[1;33m=\u001b[0m\u001b[1;34m'e'\u001b[0m\u001b[1;33m\u001b[0m\u001b[1;33m\u001b[0m\u001b[0m\n\u001b[0m",
      "\u001b[1;31mTypeError\u001b[0m: 'str' object does not support item assignment"
     ]
    }
   ],
   "source": [
    "x='Raji'\n",
    "x[3]='e'"
   ]
  },
  {
   "cell_type": "code",
   "execution_count": 34,
   "id": "fc6c35e5",
   "metadata": {},
   "outputs": [
    {
     "name": "stdout",
     "output_type": "stream",
     "text": [
      "aji\n"
     ]
    }
   ],
   "source": [
    "print(x[1:])"
   ]
  },
  {
   "cell_type": "code",
   "execution_count": 48,
   "id": "9c820d70",
   "metadata": {},
   "outputs": [
    {
     "data": {
      "text/plain": [
       "range(1, 10)"
      ]
     },
     "execution_count": 48,
     "metadata": {},
     "output_type": "execute_result"
    }
   ],
   "source": [
    "range(1,10)"
   ]
  },
  {
   "cell_type": "code",
   "execution_count": 159,
   "id": "9f0c5fdd",
   "metadata": {},
   "outputs": [
    {
     "name": "stdout",
     "output_type": "stream",
     "text": [
      "After replace:  57*9*\n"
     ]
    }
   ],
   "source": [
    "string=\"57393\"\n",
    "string=string.replace('3',\"*\")\n",
    "print(\"After replace: \", string) "
   ]
  },
  {
   "cell_type": "code",
   "execution_count": 61,
   "id": "f3934073",
   "metadata": {},
   "outputs": [
    {
     "name": "stdout",
     "output_type": "stream",
     "text": [
      "cacad\n"
     ]
    }
   ],
   "source": [
    "# abbacaca -> aacaca -> caca\n",
    "\n",
    "def removeAdjacentDuplicates(String):\n",
    "   res = []\n",
    "\n",
    "   for i in range(len(String)):\n",
    "      if len(res)!=0 and res[-1]==String[i]:\n",
    "         res.pop(-1)\n",
    "      else:\n",
    "         res.append(String[i])\n",
    "\n",
    "   return \"\".join(res)\n",
    "\n",
    "print(removeAdjacentDuplicates(\"abbacacad\"))"
   ]
  },
  {
   "cell_type": "markdown",
   "id": "54dfd252",
   "metadata": {},
   "source": [
    "## Generator"
   ]
  },
  {
   "cell_type": "code",
   "execution_count": 63,
   "id": "a2dcbf5a",
   "metadata": {},
   "outputs": [
    {
     "name": "stdout",
     "output_type": "stream",
     "text": [
      "0\n",
      "1\n",
      "1\n",
      "2\n",
      "3\n",
      "\n",
      "Using for in loop\n",
      "0\n",
      "1\n",
      "1\n",
      "2\n",
      "3\n"
     ]
    }
   ],
   "source": [
    "# A simple generator for Fibonacci Numbers\n",
    "def fib(limit):\n",
    "  \n",
    "  # Initialize first two Fibonacci Numbers\n",
    "  a, b = 0, 1\n",
    "\n",
    "  # One by one yield next Fibonacci Number\n",
    "  while a < limit:\n",
    "    yield a\n",
    "    a, b = b, a + b\n",
    "\n",
    "# Create a generator object\n",
    "x = fib(5)\n",
    "\n",
    "# Iterating over the generator object using next\n",
    "print(x. __next__()) # In Python 3, __next__()\n",
    "print(x. __next__())\n",
    "print(x. __next__())\n",
    "print(x. __next__())\n",
    "print(x. __next__())\n",
    "\n",
    "# Iterating over the generator object using for\n",
    "# in loop.\n",
    "print(\"\\nUsing for in loop\")\n",
    "for i in fib(5):\n",
    "  print(i)\n"
   ]
  },
  {
   "cell_type": "markdown",
   "id": "d62dfb95",
   "metadata": {},
   "source": [
    "## Linked List"
   ]
  },
  {
   "cell_type": "code",
   "execution_count": 64,
   "id": "5c36eecb",
   "metadata": {},
   "outputs": [],
   "source": [
    "# Node class \n",
    "class Node:\n",
    "  \n",
    "    # Constructor to initialize the node object\n",
    "    def __init__(self, data):\n",
    "        self.data = data\n",
    "        self.next = None"
   ]
  },
  {
   "cell_type": "code",
   "execution_count": 89,
   "id": "71530d45",
   "metadata": {},
   "outputs": [],
   "source": [
    "class LinkedList:\n",
    "   def __init__(self):\n",
    "      self.head = None\n",
    "            \n",
    "   def insert(self, data):\n",
    "    newNode = Node(data)\n",
    "    if(self.head):\n",
    "      current = self.head\n",
    "      while(current.next):\n",
    "        current = current.next\n",
    "      current.next = newNode\n",
    "    else:\n",
    "      self.head = newNode\n",
    "    \n",
    "   def printLL(self):\n",
    "    current = self.head\n",
    "    while(current):\n",
    "      print(current.data)\n",
    "      current = current.next"
   ]
  },
  {
   "cell_type": "code",
   "execution_count": 90,
   "id": "5c95d720",
   "metadata": {},
   "outputs": [],
   "source": [
    "LL = LinkedList()\n",
    "LL.insert(3)\n",
    "LL.insert(4)\n",
    "LL.insert(5)\n",
    "LL.insert(6)"
   ]
  },
  {
   "cell_type": "code",
   "execution_count": 91,
   "id": "3dfbd392",
   "metadata": {},
   "outputs": [
    {
     "name": "stdout",
     "output_type": "stream",
     "text": [
      "3\n",
      "4\n",
      "5\n",
      "6\n"
     ]
    }
   ],
   "source": [
    "LL.printLL()"
   ]
  },
  {
   "cell_type": "markdown",
   "id": "2a387d25",
   "metadata": {},
   "source": [
    "## Stack"
   ]
  },
  {
   "cell_type": "code",
   "execution_count": 99,
   "id": "6ce7951e",
   "metadata": {},
   "outputs": [
    {
     "name": "stdout",
     "output_type": "stream",
     "text": [
      "Thu\n",
      "Wed\n",
      "Tue\n"
     ]
    }
   ],
   "source": [
    "class Stack:\n",
    "   def __init__(self):\n",
    "      self.stack = []\n",
    "\n",
    "   def add(self, dataval):\n",
    "# Use list append method to add element\n",
    "      if dataval not in self.stack:\n",
    "         self.stack.append(dataval)\n",
    "         return True\n",
    "      else:\n",
    "         return False\n",
    "        \n",
    "# Use list pop method to remove element\n",
    "   def remove(self):\n",
    "      if len(self.stack) <= 0:\n",
    "         return (\"No element in the Stack\")\n",
    "      else:\n",
    "         return self.stack.pop()\n",
    "# Use peek to look at the top of the stack\n",
    "   def peek(self):\n",
    "      return self.stack[-1]\n",
    "\n",
    "AStack = Stack()\n",
    "AStack.add(\"Mon\")\n",
    "AStack.add(\"Tue\")\n",
    "AStack.add(\"Wed\")\n",
    "AStack.add(\"Thu\")\n",
    "print(AStack.remove())\n",
    "print(AStack.remove())\n",
    "print(AStack.peek())"
   ]
  },
  {
   "cell_type": "markdown",
   "id": "0e6e37ae",
   "metadata": {},
   "source": [
    "## Queue using List"
   ]
  },
  {
   "cell_type": "code",
   "execution_count": 117,
   "id": "7abfd433",
   "metadata": {},
   "outputs": [
    {
     "name": "stdout",
     "output_type": "stream",
     "text": [
      "Wed\n",
      "Tue\n"
     ]
    }
   ],
   "source": [
    "class Queue:\n",
    "   def __init__(self):\n",
    "      self.queue = list()\n",
    "\n",
    "   def addtoq(self,dataval):\n",
    "# Insert method to add element\n",
    "    if dataval not in self.queue:\n",
    "#       self.queue.insert(0,dataval)\n",
    "      self.queue.append(dataval)\n",
    "      return True\n",
    "    return False\n",
    "# Pop method to remove element\n",
    "   def removefromq(self):\n",
    "      if len(self.queue)>0:\n",
    "         return self.queue.pop()\n",
    "      return (\"No elements in Queue!\")\n",
    "\n",
    "TheQueue = Queue()\n",
    "TheQueue.addtoq(\"Mon\")\n",
    "TheQueue.addtoq(\"Tue\")\n",
    "TheQueue.addtoq(\"Wed\")\n",
    "print(TheQueue.removefromq())\n",
    "print(TheQueue.removefromq())"
   ]
  },
  {
   "cell_type": "code",
   "execution_count": 141,
   "id": "bc8c95e2",
   "metadata": {},
   "outputs": [
    {
     "name": "stdout",
     "output_type": "stream",
     "text": [
      "[1, 2] 2\n"
     ]
    }
   ],
   "source": [
    "l = []\n",
    "l.insert(0,1)\n",
    "\n",
    "l.insert(2,2)\n",
    "# l.insert(1,None)\n",
    "print(l, len(l))"
   ]
  },
  {
   "cell_type": "code",
   "execution_count": 123,
   "id": "17e4ac8a",
   "metadata": {},
   "outputs": [
    {
     "name": "stdout",
     "output_type": "stream",
     "text": [
      "[0, '', 2]\n",
      "{0, 1, 2, 3, 4}\n",
      "[(0, 0), ('', 1), (2, 2)]\n",
      "(0, '', 2) (0, 1, 2)\n"
     ]
    }
   ],
   "source": [
    "l = [0,'',2]\n",
    "s = set([0,1,2,2,3,3,4,4])\n",
    "print(l)\n",
    "print(s)\n",
    "zipped= list(zip(l,s))\n",
    "print(list(zip(l,s)))\n",
    "\n",
    "# unzipping values\n",
    "u,v = zip(*zipped)\n",
    "print(u,v)"
   ]
  },
  {
   "cell_type": "code",
   "execution_count": 148,
   "id": "567a4683",
   "metadata": {},
   "outputs": [
    {
     "name": "stdout",
     "output_type": "stream",
     "text": [
      "[10, 20, 30, 40, 50, 60, 70, 80, 90, 100]\n",
      "True\n"
     ]
    }
   ],
   "source": [
    "# Lambda\n",
    "tables = lambda x=x: [x*10 for x in range(1, 11)]\n",
    "print(tables())\n",
    "\n",
    "even = lambda x: (x%2 != 0)\n",
    "print(even(3))"
   ]
  },
  {
   "cell_type": "code",
   "execution_count": 130,
   "id": "15504cf3",
   "metadata": {},
   "outputs": [
    {
     "name": "stdout",
     "output_type": "stream",
     "text": [
      "[5, 7, 97, 77, 23, 73, 61]\n"
     ]
    }
   ],
   "source": [
    "# Python code to illustrate\n",
    "# filter() with lambda()\n",
    "li = [5, 7, 22, 97, 54, 62, 77, 23, 73, 61]\n",
    "\n",
    "final_list = list(filter(lambda x: (x%2 != 0) , li))\n",
    "print(final_list)\n"
   ]
  },
  {
   "cell_type": "markdown",
   "id": "0ee77bd4",
   "metadata": {},
   "source": [
    "### Indices of 2 sum"
   ]
  },
  {
   "cell_type": "code",
   "execution_count": 132,
   "id": "1daaab5f",
   "metadata": {},
   "outputs": [
    {
     "name": "stdout",
     "output_type": "stream",
     "text": [
      "[(0, 4), (2, 3), (3, 2), (4, 0)]\n"
     ]
    }
   ],
   "source": [
    "l=[0,1,2,7,9]\n",
    "\n",
    "def index(sum):\n",
    "    list_of_indices = []\n",
    "    for i in range(len(l)):\n",
    "        rem = sum - l[i]\n",
    "        if rem in l:\n",
    "            list_of_indices.append((i , l.index(rem)))\n",
    "    return list_of_indices\n",
    "\n",
    "print(index(9))"
   ]
  },
  {
   "cell_type": "code",
   "execution_count": 139,
   "id": "80b246c0",
   "metadata": {},
   "outputs": [
    {
     "name": "stdout",
     "output_type": "stream",
     "text": [
      "[(0, 0, 6), (0, 2, 3), (0, 3, 2), (0, 6, 0), (1, 1, 3), (1, 3, 1), (1, 4, 5), (1, 5, 4), (2, 0, 3), (2, 2, 4), (2, 3, 0), (2, 4, 2), (3, 0, 2), (3, 1, 1), (3, 2, 0), (4, 1, 5), (4, 2, 2), (4, 5, 1), (5, 1, 4), (5, 4, 1), (5, 5, 5), (6, 0, 0)]\n"
     ]
    }
   ],
   "source": [
    "l=[0,1,2,7,5,3,9]\n",
    "\n",
    "def index(sum):\n",
    "    list_of_indices = []\n",
    "    for i in range(len(l)):\n",
    "        rem = sum - l[i]\n",
    "#         print(rem)\n",
    "        for j in range(len(l)):\n",
    "            balance = rem - l[j]\n",
    "#             print(balance)\n",
    "            if balance in l:\n",
    "                list_of_indices.append((i , j, l.index(balance)))\n",
    "#     print(\"**************End***********\")\n",
    "    return list_of_indices\n",
    "\n",
    "print(index(9))"
   ]
  },
  {
   "cell_type": "code",
   "execution_count": 150,
   "id": "2e6576a7",
   "metadata": {},
   "outputs": [
    {
     "ename": "TypeError",
     "evalue": "__init__() missing 1 required positional argument: 'email'",
     "output_type": "error",
     "traceback": [
      "\u001b[1;31m---------------------------------------------------------------------------\u001b[0m",
      "\u001b[1;31mTypeError\u001b[0m                                 Traceback (most recent call last)",
      "\u001b[1;32m~\\AppData\\Local\\Temp/ipykernel_10536/3414363484.py\u001b[0m in \u001b[0;36m<module>\u001b[1;34m\u001b[0m\n\u001b[0;32m      7\u001b[0m \u001b[1;33m\u001b[0m\u001b[0m\n\u001b[0;32m      8\u001b[0m \u001b[1;31m# This line will generate an error\u001b[0m\u001b[1;33m\u001b[0m\u001b[1;33m\u001b[0m\u001b[0m\n\u001b[1;32m----> 9\u001b[1;33m \u001b[0mst\u001b[0m \u001b[1;33m=\u001b[0m \u001b[0mstudent\u001b[0m\u001b[1;33m(\u001b[0m\u001b[1;34m\"rahul\"\u001b[0m\u001b[1;33m)\u001b[0m\u001b[1;33m\u001b[0m\u001b[1;33m\u001b[0m\u001b[0m\n\u001b[0m\u001b[0;32m     10\u001b[0m \u001b[1;33m\u001b[0m\u001b[0m\n\u001b[0;32m     11\u001b[0m \u001b[1;31m# This line will call the second constructor\u001b[0m\u001b[1;33m\u001b[0m\u001b[1;33m\u001b[0m\u001b[0m\n",
      "\u001b[1;31mTypeError\u001b[0m: __init__() missing 1 required positional argument: 'email'"
     ]
    }
   ],
   "source": [
    "class student:    \n",
    "    def __init__(self, name):    \n",
    "        self.name = name    \n",
    "    def __init__(self, name, email):    \n",
    "        self.name = name    \n",
    "        self.email = email    \n",
    "         \n",
    "# This line will generate an error    \n",
    "st = student(\"rahul\")    \n",
    "    \n",
    "# This line will call the second constructor    \n",
    "st = student(\"rahul\", \"rahul@gmail.com\")    \n",
    "print(\"Name: \", st.name)  \n",
    "print(\"Email id: \", st.email)  "
   ]
  },
  {
   "cell_type": "markdown",
   "id": "16dd78dd",
   "metadata": {},
   "source": [
    "### remove() and del"
   ]
  },
  {
   "cell_type": "code",
   "execution_count": 158,
   "id": "434c3a55",
   "metadata": {},
   "outputs": [
    {
     "name": "stdout",
     "output_type": "stream",
     "text": [
      "[3, 5, 7, 3, 9, 3]\n",
      "After removal:  [5, 7, 3, 9, 3]\n"
     ]
    }
   ],
   "source": [
    "# remove() function to delete a specific object in the list.\n",
    "list_1 = [ 3, 5, 7, 3, 9, 3 ]   \n",
    "print(list_1)  \n",
    "list_1.remove(3)# first occurence of the element   \n",
    "print(\"After removal: \", list_1) \n"
   ]
  },
  {
   "cell_type": "code",
   "execution_count": 160,
   "id": "c6510b2c",
   "metadata": {},
   "outputs": [
    {
     "name": "stdout",
     "output_type": "stream",
     "text": [
      "[3, 5, 7, 3, 9, 3]\n",
      "After deleting:  [3, 5, 3, 9, 3]\n"
     ]
    }
   ],
   "source": [
    "# If you want to delete an object at a specific location (index) in the list, you can either use del or pop.\n",
    "list_1 = [ 3, 5, 7, 3, 9, 3 ]   \n",
    "print(list_1)  \n",
    "del list_1[2]  \n",
    "print(\"After deleting: \", list_1)  "
   ]
  },
  {
   "cell_type": "markdown",
   "id": "5af28ca1",
   "metadata": {},
   "source": [
    "### Binary Search"
   ]
  },
  {
   "cell_type": "code",
   "execution_count": null,
   "id": "4140003d",
   "metadata": {},
   "outputs": [],
   "source": [
    "def binarySearch(arr, l, r, x):\n",
    "  \n",
    "    # Check base case\n",
    "    if r >= l:\n",
    "  \n",
    "        mid = l+r // 2\n",
    "  \n",
    "        # If element is present at the middle itself\n",
    "        if arr[mid] == x:\n",
    "            return mid\n",
    "  \n",
    "        # If element is smaller than mid, then it\n",
    "        # can only be present in left subarray\n",
    "        elif arr[mid] > x:\n",
    "            return binarySearch(arr, l, mid-1, x)\n",
    "  \n",
    "        # Else the element can only be present\n",
    "        # in right subarray\n",
    "        else:\n",
    "            return binarySearch(arr, mid + 1, r, x)\n",
    "  \n",
    "    else:\n",
    "        # Element is not present in the array\n",
    "        return -1\n",
    "  \n",
    "  \n",
    "# Driver Code\n",
    "arr = [2, 3, 4, 10]\n",
    "x = 10\n",
    "  \n",
    "# Function call\n",
    "result = binarySearch(arr, 0, len(arr)-1, x)\n",
    "  \n",
    "if result != -1:\n",
    "    print(\"Element is present at index % d\" % result)\n",
    "else:\n",
    "    print(\"Element is not present in array\")"
   ]
  },
  {
   "cell_type": "code",
   "execution_count": null,
   "id": "1d05bafc",
   "metadata": {},
   "outputs": [],
   "source": []
  }
 ],
 "metadata": {
  "kernelspec": {
   "display_name": "Python 3 (ipykernel)",
   "language": "python",
   "name": "python3"
  },
  "language_info": {
   "codemirror_mode": {
    "name": "ipython",
    "version": 3
   },
   "file_extension": ".py",
   "mimetype": "text/x-python",
   "name": "python",
   "nbconvert_exporter": "python",
   "pygments_lexer": "ipython3",
   "version": "3.9.7"
  }
 },
 "nbformat": 4,
 "nbformat_minor": 5
}
